{
 "cells": [
  {
   "cell_type": "markdown",
   "metadata": {},
   "source": [
    "# Dead End Fouling Models\n",
    "\n",
    "Imput the filename:"
   ]
  },
  {
   "cell_type": "code",
   "execution_count": 39,
   "metadata": {},
   "outputs": [],
   "source": [
    "file = 'MW_NF90.csv'"
   ]
  },
  {
   "cell_type": "markdown",
   "metadata": {},
   "source": [
    "Required modules:"
   ]
  },
  {
   "cell_type": "code",
   "execution_count": 40,
   "metadata": {},
   "outputs": [],
   "source": [
    "import numpy as np\n",
    "import pandas as pd\n",
    "import csv\n",
    "import matplotlib.pyplot as plt\n",
    "from scipy.optimize import curve_fit"
   ]
  },
  {
   "cell_type": "markdown",
   "metadata": {},
   "source": [
    "### Cross flow models\n",
    "* Complete pore blocking - returns a list containing predicted fluxs at imputed time (t)\n",
    "* Internal pore blocking - returns a list containing predicted fluxs at imputed time (t)\n",
    "* Partial pore blocking - returns a list containing predicted fluxs at imputed time (t)\n",
    "* Cake formation - returns a list containing predicted times at imputed flux (f)"
   ]
  },
  {
   "cell_type": "code",
   "execution_count": 41,
   "metadata": {},
   "outputs": [],
   "source": [
    "def complete_pore_blocking( t, k):\n",
    "    return J0*np.exp(-k*t)\n",
    "def internal_pore_blocking(t, k):\n",
    "    A=1\n",
    "    return J0/(1+(1/2)*k*np.sqrt(A*J0)*t)\n",
    "def partial_pore_blocking(t, k):\n",
    "    A = 1\n",
    "    return J0*(1+k*(A*J0)*t)**(-1)\n",
    "def cake_formation(t, k):\n",
    "    A = 1\n",
    "    return J0/np.sqrt(1+2*k*((A*J0)**2)*t)"
   ]
  },
  {
   "cell_type": "markdown",
   "metadata": {},
   "source": [
    "Opening .csv file as a DataFrame"
   ]
  },
  {
   "cell_type": "code",
   "execution_count": 42,
   "metadata": {},
   "outputs": [],
   "source": [
    "df = pd.read_csv(file)"
   ]
  },
  {
   "cell_type": "markdown",
   "metadata": {},
   "source": [
    "* J0 - initial flux\n",
    "* Jst - initial estimation for the flux at stationary state\n",
    "* A - membnrane area "
   ]
  },
  {
   "cell_type": "code",
   "execution_count": 43,
   "metadata": {},
   "outputs": [],
   "source": [
    "J0 = df.iloc[0]['Flux']\n",
    "df['Flux'] = df['Flux']/J0\n",
    "Jst_pr = df.iloc[-1]['Flux']\n",
    "#A = 0.0140  # membrane area in m2"
   ]
  },
  {
   "cell_type": "markdown",
   "metadata": {},
   "source": [
    "Parameter determination - fitting the model to the imput data"
   ]
  },
  {
   "cell_type": "code",
   "execution_count": 44,
   "metadata": {},
   "outputs": [
    {
     "name": "stdout",
     "output_type": "stream",
     "text": [
      "Complete pore blocking [0.0022001]\n",
      "Internal pore blocking [0.00487882]\n",
      "Partial pore blocking [0.00243941]\n",
      "Cake formation [0.0027065]\n"
     ]
    }
   ],
   "source": [
    "cpb_popt, cpb_pcov = curve_fit(complete_pore_blocking, \n",
    "                               df[:]['Time'], df[:]['Flux'],  \n",
    "                               p0=[0.001])\n",
    "print('Complete pore blocking',cpb_popt)\n",
    "\n",
    "ipb_popt, ipb_pcov = curve_fit(internal_pore_blocking, \n",
    "                               df[:]['Time'], df[:]['Flux'],  \n",
    "                               p0=[0.01])\n",
    "print('Internal pore blocking', ipb_popt)\n",
    "\n",
    "ppb_popt, ppb_pcov = curve_fit(partial_pore_blocking, \n",
    "                               df[:]['Time'], df[:]['Flux'],  \n",
    "                               p0=[0.001])\n",
    "print('Partial pore blocking', ppb_popt)\n",
    "\n",
    "cf_popt, cf_pcov = curve_fit(cake_formation, \n",
    "                             df[:]['Time'], df[:]['Flux'],  \n",
    "                             p0=[0.001],  maxfev=10000)\n",
    "print('Cake formation', cf_popt)"
   ]
  },
  {
   "cell_type": "markdown",
   "metadata": {},
   "source": [
    "Ploting the results"
   ]
  },
  {
   "cell_type": "code",
   "execution_count": 45,
   "metadata": {},
   "outputs": [
    {
     "data": {
      "image/png": "[encoded data removed]",
      "text/plain": [
       "<Figure size 432x288 with 1 Axes>"
      ]
     },
     "metadata": {
      "needs_background": "light"
     },
     "output_type": "display_data"
    }
   ],
   "source": [
    "#Ploting the values predicted by the fitted models\n",
    "plt.plot(df['Time'], complete_pore_blocking(df['Time'],*cpb_popt ), \n",
    "         label='Complete pore blociking')\n",
    "plt.plot(df['Time'], internal_pore_blocking(df['Time'],*ipb_popt ), \n",
    "         label='Internal pore blociking')\n",
    "plt.plot(df['Time'], partial_pore_blocking(df['Time'],*ppb_popt ), \n",
    "         label='Partial pore blociking')\n",
    "plt.plot( df['Time'], cake_formation(df['Time'],*cf_popt ),  \n",
    "         label='Cake formation')\n",
    "\n",
    "\n",
    "#Ploting the inital data and plot editing\n",
    "plt.scatter(df['Time'], df['Flux'], s=5, color='b', alpha=0.9)\n",
    "plt.title('Flux - Time (cross flow models)', size=16)\n",
    "plt.xlabel('time,$s$', size=14)\n",
    "plt.ylabel('Flux, $-$', size=14)\n",
    "plt.ylim(ymin=0)\n",
    "plt.xlim(xmin=0)\n",
    "plt.tick_params(labelsize=14)\n",
    "plt.legend()\n",
    "plt.grid(linestyle=\"--\", linewidth=0.5, color='.1', zorder=-10)\n",
    "plt.show()"
   ]
  },
  {
   "cell_type": "markdown",
   "metadata": {},
   "source": [
    "Saving the data as an Excel spreadsheet"
   ]
  },
  {
   "cell_type": "code",
   "execution_count": 46,
   "metadata": {},
   "outputs": [
    {
     "data": {
      "text/html": [
       "<div>\n",
       "<style scoped>\n",
       "    .dataframe tbody tr th:only-of-type {\n",
       "        vertical-align: middle;\n",
       "    }\n",
       "\n",
       "    .dataframe tbody tr th {\n",
       "        vertical-align: top;\n",
       "    }\n",
       "\n",
       "    .dataframe thead th {\n",
       "        text-align: right;\n",
       "    }\n",
       "</style>\n",
       "<table border=\"1\" class=\"dataframe\">\n",
       "  <thead>\n",
       "    <tr style=\"text-align: right;\">\n",
       "      <th></th>\n",
       "      <th>Time</th>\n",
       "      <th>Flux</th>\n",
       "      <th>complete pore blocking</th>\n",
       "      <th>internal_pore_blocking</th>\n",
       "      <th>partial_pore_blocking</th>\n",
       "      <th>cake_formation</th>\n",
       "    </tr>\n",
       "  </thead>\n",
       "  <tbody>\n",
       "    <tr>\n",
       "      <th>0</th>\n",
       "      <td>0</td>\n",
       "      <td>1.000000</td>\n",
       "      <td>1.000000</td>\n",
       "      <td>1.000000</td>\n",
       "      <td>1.000000</td>\n",
       "      <td>1.000000</td>\n",
       "    </tr>\n",
       "    <tr>\n",
       "      <th>1</th>\n",
       "      <td>2</td>\n",
       "      <td>0.951613</td>\n",
       "      <td>0.995609</td>\n",
       "      <td>0.995145</td>\n",
       "      <td>0.995145</td>\n",
       "      <td>0.994631</td>\n",
       "    </tr>\n",
       "    <tr>\n",
       "      <th>2</th>\n",
       "      <td>4</td>\n",
       "      <td>0.941935</td>\n",
       "      <td>0.991238</td>\n",
       "      <td>0.990337</td>\n",
       "      <td>0.990337</td>\n",
       "      <td>0.989347</td>\n",
       "    </tr>\n",
       "    <tr>\n",
       "      <th>3</th>\n",
       "      <td>6</td>\n",
       "      <td>0.938710</td>\n",
       "      <td>0.986886</td>\n",
       "      <td>0.985575</td>\n",
       "      <td>0.985575</td>\n",
       "      <td>0.984146</td>\n",
       "    </tr>\n",
       "    <tr>\n",
       "      <th>4</th>\n",
       "      <td>8</td>\n",
       "      <td>0.929032</td>\n",
       "      <td>0.982553</td>\n",
       "      <td>0.980858</td>\n",
       "      <td>0.980858</td>\n",
       "      <td>0.979027</td>\n",
       "    </tr>\n",
       "  </tbody>\n",
       "</table>\n",
       "</div>"
      ],
      "text/plain": [
       "   Time      Flux  complete pore blocking  internal_pore_blocking  \\\n",
       "0     0  1.000000                1.000000                1.000000   \n",
       "1     2  0.951613                0.995609                0.995145   \n",
       "2     4  0.941935                0.991238                0.990337   \n",
       "3     6  0.938710                0.986886                0.985575   \n",
       "4     8  0.929032                0.982553                0.980858   \n",
       "\n",
       "   partial_pore_blocking  cake_formation  \n",
       "0               1.000000        1.000000  \n",
       "1               0.995145        0.994631  \n",
       "2               0.990337        0.989347  \n",
       "3               0.985575        0.984146  \n",
       "4               0.980858        0.979027  "
      ]
     },
     "execution_count": 46,
     "metadata": {},
     "output_type": "execute_result"
    }
   ],
   "source": [
    "df['complete pore blocking'] = complete_pore_blocking(df['Time'],*cpb_popt )\n",
    "df['internal_pore_blocking'] = internal_pore_blocking(df['Time'],*ipb_popt )\n",
    "df['partial_pore_blocking'] = partial_pore_blocking(df['Time'],*ppb_popt )\n",
    "df['cake_formation'] = cake_formation(df['Time'],*cf_popt )\n",
    "\n",
    "\n",
    "writer = pd.ExcelWriter(file + '_fouling_modela_results.xlsx')\n",
    "df.to_excel(writer, 'Sheet1')\n",
    "writer.save()\n",
    "\n",
    "df.head()"
   ]
  }
 ],
 "metadata": {
  "kernelspec": {
   "display_name": "Python 3",
   "language": "python",
   "name": "python3"
  },
  "language_info": {
   "codemirror_mode": {
    "name": "ipython",
    "version": 3
   },
   "file_extension": ".py",
   "mimetype": "text/x-python",
   "name": "python",
   "nbconvert_exporter": "python",
   "pygments_lexer": "ipython3",
   "version": "3.7.3"
  }
 },
 "nbformat": 4,
 "nbformat_minor": 2
}
